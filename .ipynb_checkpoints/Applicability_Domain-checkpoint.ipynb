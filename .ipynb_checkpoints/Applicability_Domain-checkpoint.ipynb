{
 "cells": [
  {
   "cell_type": "markdown",
   "metadata": {},
   "source": [
    "# Applicability Domain Workflow"
   ]
  },
  {
   "cell_type": "markdown",
   "metadata": {},
   "source": [
    "### Introduction\n",
    "\n",
    "Workflow for estimation of Applicability Domain (AD) based on Euclidean distances. \n",
    "\n",
    "The AD of a QSAR model must be defined to flag compounds in the test set for which predictions may be unreliable. In this workflow, similarity measurements are used to define the AD of the model based on the Euclidean distances among all the compounds of the training set. Then, we estimate if compounds of the test are inside the AD of the training set. The distance of a test compound to its nearest neighbor in the training set is compared to the calculated AD Threshold (ADT) of the training set. If the similarity is beyond this threshold, the prediction is considered unreliable.\n",
    "\n",
    "ADT is calculated as follows: \n",
    "\n",
    "ADT = D + Zσ \n",
    "\n",
    "where where Z is a similarity threshold parameter defined by the user (default is 0.5), and D and σ are the average and standard deviation, respectively, of all Euclidian distances in the multidimensional descriptor space between each compound and its nearest neighbors for all compounds in the training set.\n",
    "\n",
    "This method has been defined by A. Golbraikh, M. Shen, Z. Xiao, Y.-D. Xiao, K.-H. Lee, A. Tropsha. J. Comput. Aided. Mol. Des. 2003, 17 (2–4), 241–253."
   ]
  },
  {
   "cell_type": "code",
   "execution_count": 1,
   "metadata": {},
   "outputs": [],
   "source": [
    "import pandas as pd\n",
    "import numpy as np\n",
    "from rdkit.Chem import PandasTools\n",
    "from rdkit.Chem.AllChem import GetMorganFingerprintAsBitVect\n",
    "from sklearn.model_selection import train_test_split\n",
    "from scipy.spatial import distance_matrix"
   ]
  },
  {
   "cell_type": "markdown",
   "metadata": {},
   "source": [
    "### ADT function"
   ]
  },
  {
   "cell_type": "code",
   "execution_count": 2,
   "metadata": {},
   "outputs": [],
   "source": [
    "def calc_training_dist_matrix(training_descriptors):\n",
    "    return np.sort(distance_matrix(training_descriptors,training_descriptors),axis=1)[:,1:]\n",
    "\n",
    "def calc_d_cutoff(distance_matrix, user_cutoff=0.5):\n",
    "    average_dist = np.mean(distance_matrix, axis=None)\n",
    "    std_dev = np.std(distance_matrix, axis=None)\n",
    "    return (average + user_cutoff * std_dev)\n",
    "\n",
    "def calc_test_distances(testing_descriptors,training_descriptors):\n",
    "    return distance_matrix(testing_descriptors,training_descriptors)\n",
    "\n",
    "def test_against_cutoff(distances_for_compound,threshold):\n",
    "    test_value = calc_d_cutoff(distances_for_compound)\n",
    "    if test_value > threshold:\n",
    "        return True\n",
    "    return False"
   ]
  },
  {
   "cell_type": "markdown",
   "metadata": {},
   "source": [
    "### Import curated datasets"
   ]
  },
  {
   "cell_type": "code",
   "execution_count": 3,
   "metadata": {},
   "outputs": [
    {
     "data": {
      "text/html": [
       "<table border=\"1\" class=\"dataframe\">\n",
       "  <thead>\n",
       "    <tr style=\"text-align: right;\">\n",
       "      <th></th>\n",
       "      <th>Activity</th>\n",
       "      <th>ID</th>\n",
       "      <th>MOL</th>\n",
       "      <th>Outcome</th>\n",
       "      <th>ROMol</th>\n",
       "      <th>Set</th>\n",
       "    </tr>\n",
       "  </thead>\n",
       "  <tbody>\n",
       "    <tr>\n",
       "      <th>0</th>\n",
       "      <td>-0.12</td>\n",
       "      <td></td>\n",
       "      <td>ms_1</td>\n",
       "      <td>Inactive</td>\n",
       "      <td><img src=\"data:image/png;base64,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\" alt=\"Mol\"/></td>\n",
       "      <td>ms</td>\n",
       "    </tr>\n",
       "  </tbody>\n",
       "</table>"
      ],
      "text/plain": [
       "  Activity ID   MOL   Outcome                                                                                                                                                                                                                                                                                                                                                                                                                                                                                                                                                                                                                                                                                                                                                                                                                                                                                                                                                                                                                                                                                                                                                                                                                                                                                                                                                                                                                                                                                                                                                                                                                                                                                                                                                                                                                                                                                                                                                                                                                                                                                                                                                                                                                                                                                                                                                                                                                                                                                                                                                                                                                                                                                                                                                                                                                                                                                                                                                                                                                                                                                                                                                                                                                                                                                                                                                                                                                                                                                                                                                                                                                                                                                                                                                                                                                                                                                                                                                                                                                                                                                                                                                                                                                                                                                                                                                                                                                                                                                                                                                                                                                                                                                                                                                                                                                                                                                                                                                                                                                                                                                                                                                                                                                                                                                                                                                                                                                                                                                                                                                                                                                                                                                                                                                                                                                                                                                              ROMol Set\n",
       "0    -0.12     ms_1  Inactive  <img src=\"data:image/png;base64,iVBORw0KGgoAAAANSUhEUgAAAMgAAADICAIAAAAiOjnJAAAABmJLR0QA/wD/AP+gvaeTAAAQKklEQVR4nO2dWVBT1xvAT2JAWZTNBVGQRRAQWQXclQiVIq88hmo7kxn6ENqpTnjpxD50BqbtNJ3OdCYPfYjtgwM8RUGmieKCiiyCoGFxRWQRlIAIQpDc/8OZ3uYPqEjuOefe5Ps9Oni/L7m/e+/5zvnuiYzjOAQAQiNnnQDgnoBYABFALIAIIBZABBALIAKIBRABxAKIoGCdgDRoaWmpra2VyWT5+fmZmZms05ECHPBBhoaGTp48KZfLEUIymUwul584cWJwcJB1XmIHxHovdrtdr9evW7cOIeTl5VVSUlJWVrZmzRqEkJ+fn06ne/v2LescxQuItTQmkykmJgbf1HNzc61WK/73Z8+eqVQq/O/h4eFGo5FtnqIFxFpId3f3559/jtXZsWNHTU3N4r+5fPlycnIy/pucnJy7d+/Sz1PkgFj/MTY2ptFoFAoFQigoKKi8vHx2dvZ9fzw/P280Gjds2IAQksvlKpXqxYsXNLMVOSAWx3Hc3NycwWDAligUCrVaPTIyspz/ODY2ptVqvb29l+OiRwFicZcuXdq1axd+rimVyhU817q7uwsKCj789PQ0PFqsBw8eFBUVYSG2b99eWVnpytHMZnNiYiI/3r9//75QeUoRDxXrzZs3Op1O8LkDPEMREBCAZyg0Gs34+Ljrh5UiHieWw+EwGo2hoaF4wlOlUg0NDQkb4uXLlxqNZtWqVQihkJAQvV7/7t07YUOIH88Sq6mpae/evfhplZmZefPmTXKxWltbDx48iGOlp6dfu3aNXCwR4iliPX/+XKVSyWQyhNCWLVuMRqPD4aAQ12QyRUZGYr0KCwufPHlCIagYcH+xpqeny8vL165dixDy8fHRarWvX7+mn4C/vz+fwOTkJM0EmODmYi24YTx+/JhVJqxumaxwW7Hu3Llz6NAhrFRaWtrVq1dZZ8RxHHf79u09e/bgrLKysm7dusU6I1K4oVgiL8oolKViwK3EktA0Ep5IW716NT+RNjMzwzopIXEfsRZMfN+7d491Rh9H2Kl/UeEOYvX09Bw/fhyfnri4uAsXLrDO6NOwWCzOi5UdHR2sMxIAaYtls9n45oLAwEDpNhesuL1CtEhVLNwOtXHjRndqh3r16hXfEBYcHKzX6+fm5lgntUIkKZZzA+eRI0fa29tZZyQkXV1d+fn5+NPFx8fX1tayzmglSEwsz2k5d266LywsfPjwIeuMPg3JiOXc6OLr68vqJRmHw3H69Gn+3QqiLHhNSKPRTExMUIgrCBIQy+FwVFZWRkRE4BnFoqKivr4+VsmcO3cOn+bS0tKxsTEKEQcHB9VqNX6xcfPmzQaDYX5+nkJcFxG7WM3Nzfv27cNPhN27d9+4cYNtPqzG1y0tLfv378ffQ0ZGxvXr1ykEdQXxijUwMMBfqWFhYaK6UheMry9evEghKL5zb9u2jb9zP336lELclSFGsWZnZ/V6PW508fb21mg0lBtdlonJZIqOjubH148ePaIQdGpqSqfT+fj48GPN6elpCnE/FdGJxeRsrRh8DeDxNb4G6Iyv+/v7+SacrVu3irAJR0RiWa3WY8eOYaUSEhLq6upYZ7RcWI2vr1y5kpqair+xw4cPt7W1UQi6TEQhFh4R40YXPCIWVaPLMlkwvm5oaKAQFK9AbNq0iV+BGB4ephD3ozAWy263GwyG9evX4xperVaPjo6yTckVFs+M0Blf4zVT3ISD10yZN+GwFMtsNu/cuZNvdOns7GSYjIDg8bXzXC6d8XVvb29hYSH+PmNjY9k24bARq7e3l+9DYv4VEILV+HrB5cqqL422WM43bX9/f/frnFxAfX19SkoK5fE1XgsKDAxkOMCgJ5Zoh5mkWdzhQ+eDsy2JKInlXBhnZ2c3NjbSiSseWI2vWU3iEBdL/FN5NOnp6eHH13FxcefPn6cT12QyRUVF0Zx2JiiWVBYf6MNkfE15oYyIWNJaLmXCgvG1RqOx2WwU4lJb2hdeLMk1eDCE1fi6qamJdDOSkGItXjKT4soMfdra2vjdAKiNr0m3TwojlqSbaEXCgvE1nf1LCO1syAkiltTb/sWD845LNBvRSLyi4pJY4+PjSqUSJ5SUlGSxWFxPCGDVOmuxWJKSkvDZVCqVLm574ZJYVVVVMTExAQEBkn61UpxQGF8vBi8ShISEREVFubiA65JYeXl5CKHq6mpXDgK8Dzy+Dg8PJzS+fh/V1dUIoby8PFcOIsAPYeIxASA4WKauri684VFVVVViYuKZM2dmZmaIxhXkhMIvrIodPz+/M2fO9Pb2qlSqqampH374IS4u7uzZs6zz+gggljQIDw8/e/Ys3rSiv7//iy++wBsesc7rvYBYUiInJ6etrQ034dTX16elpRUXF4+MjLDOawlALIkhl8uLi4u7u7u1Wq1Cofjrr7/i4+MrKirsdjvr1P4PEEuS4J+w6+joKCgosNlsZWVlycnJNTU1rPP6DxBLwuCfsMObr+JOr7y8PKvVyjovhEAsNyA3N7e9vR1vF22xWFJTU0tLSycmJthmBWK5A3hbpe7u7i+//HJ+fv7333/v7Oxkm5KCbXhAQEJDQ//888+vv/66rq7uwIEDbJMBsdyNjIyMjIwM1lnAoxAgAzOxPvvss5SUFHFO7gGuw+xRaLVaBwYGxDatBwgFPAoBIoBYABFALIAIIBZABBALIAKIBRABxAKIAGIBRACxACKAWAARQCyACCAWQAQQCyACiAUQAcQCiABiAUQAsQAigFgAEUAsgAggFkAEEAsgAogFEAHEAogAYgFEALEAIoBYABFALIAIIBZABBALIAKIBRABxAKIAGIBRACxACKAWAARQCyACCAWQAQQCyACiAUQAcQCiABiAUQAsQAigFgAEUAsgAggFkAEEAsgAogFEAHEAogAYgFEALEAIoBYABFALIAIIBZABBALIAKIBRABxAKIAGIBRACxACKAWAARQCyACCAWQAQQCyCCglXgxMTEkJAQb29vVgkARGEm1j///MMqNEABeBQCRACx3I3W1tYff/yRdRYglhsxPDz81VdfZWVlff/99w0NDWyTYTbGAgRkbm7ujz/+0Ol0ExMTXl5eJSUlu3btYpsSiCV5LBZLaWmp1WpFCOXm5v7222+JiYmsk4JHoZTp6ek5fvx4Xl6e1WrdsWNHTU2N2WwWg1UI7lgSxWazVVRU/Prrr3a7PSgoSKvVfvvtt6KaFASxJIbD4fj7779PnTo1Ojoql8tVKtXPP/+8ceNG1nktBMSSEvX19d98801HRwdCKCcnR6/XJycns05qaWCMJQ36+/uLi4uVSmVHR0d4eLjRaLx8+bJorUJwxxI/U1NTP/30U0VFxczMjJ+f36lTp8rKytasWcM6r48ggFiTk5OuHwRYDMdx1dXV3333XX9/v0wmKyoq+uWXX8LDw0nHFeaEci5QVVUVHR0dEBCg1+vn5uZcORSwgKampr179+JzlJmZeePGDQpB5+fnjUZjcHBwZGRkZWWlK4dySazx8XGlUok/fFJSksViceVoAGZgYEClUslkMoRQWFiYwWCYn5+nENdisSQlJeGzqVQqx8fHXTmaS2JhTCZTTEwMTqiwsPDhw4euH9MzmZ6eLi8vX7t2LULIx8dHq9W+fv2aQtxnz56pVCp8BnFl4PoxBRCL4zi73a7X69etW4cQ8vLy0mg0ExMTghzZczCZTFFRUfz1+fjxYwpB37x5o9PpcCng5+en0+nevn0ryJGFEQszODioVqtXrVqFENq8ebPBYHj37p2Ax3dX7ty5c+jQIaxUamrq1atXKQR1OByVlZW4FMCVQV9fn4DHF1IsTEtLy4EDB/DXlJ6efv36dcFDuA0vX77UaDT4UgwODtbr9XQuxaampn379hGtDIQXi/v3ati2bRt/NTx9+pREIOmCBw8BAQH84MFms1GIOzAwoFar5XI56cqAiFiYqakpnU7n4+ODEPL19dVqtZOTk+TCSQiz2bxz5058w8jNzb137x6FoM6Vgbe3t0ajIVoZEBQL09/fzxfPW7duNRqNDoeDdFDR0tPTU1hYiJWKi4s7f/48nbj0KwPiYmEaGxuzs7PxB8vOzm5sbKQTVzzYbDatVos7WwIDA8vLy2dmZijEbWtr4yuDhISEuro6CkE5amJx/87qbtq0CSGE+z2Gh4epRWcI/uC4swV/8BcvXlCI++rVKyaVAYaeWJjJyUmdTrd69WqEkL+/v06no3PhsqK+vj4lJQXfMI4cOdLe3k4hKK4MAgMDKVcGztAWC9Pb21tUVIS/7tjYWBeXpcSJ83Q2zcElk8pgMWzEwpjNZn5x6ujRo52dnQyTERBcDuPpbF9fXwGnsz+Mc2UQGxtLrTJYEpZicRxnt9sNBsP69esRQgqFQq1Wj46Osk3JFfAEXkREBKHp7PeBKwM8wKBZGXwAxmJh2A4zhaK5uXn//v34hpGRkdHQ0EAh6OLKQCQlkSjEwlit1mPHjtEvjF3HeTobL5LSaXS5cuUKXxkcPny4ra2NQtBlIiKxMCaTKTo6mp/Ke/ToEeuMPsTs7Czf1oGns+m0dYh/2ll0YnH/ni3nxQdxNuEwuQYWVwbT09MU4n4qYhQLQ225dAVYrdb8/HysVHx8/MWLFykEldbSvnjFwjQ3N/MNHrt376YzIv4Ai+sMOs3+LS0tzpWB+JuRxC4Wx66GX5Jz587h6ezS0tKxsTEKEXH7JP3KwEUkIBaG1azjAhwOx+nTp61WK4VYrCoDQZCMWBgSbf/iRFrV8WIkJhaGycouNbq6uuhXBoIjSbE4dr0oRMGVgUKhoFwZkECqYmEWd8/Nzs6yTmolzM3NudOaKSd1sTB4Yzu+3/fChQusM/o0nF9BPnr0aEdHB+uMBMAdxMKIpA/pk3jw4AHfl7Z9+3Z36ktzH7G4pd6pcnEDAnLgV5Bxowt+BZl5o4uwuJVYGOe3QENCQsTWhOPc+y+TyVQq1dDQEOukhMcNxcI4v7eelpZG5731j3L79u09e/bgrLKysm7dusU6I1K4rVgYJjttLMnz58/5RpctW7aIsNFFWNxcLI7d3kA8U1NT5eXl/v7+fAKe8Ea4+4uFcb5hhIWFUbthmEymyMhI/pb55MkTCkHFgKeIhVmw/+LNmzfJxWptbT148CCOlZ6efu3aNXKxRIhnicVxnMPhMBqNoaGh5IoykZeldPA4sTCEdrKT0EQaaTxULIzzxHdERISLTThmszkhIYGf+r9//75QeUoRjxYLc+nSJf4nHnJycu7evfupR+ju7i4oKMBHwL/CRSJPaQFicdy/zQUbNmzgm3BGRkaW8x/Hxsb49oqgoCDptlcIDoj1H59kCV6ZWYGLHgKItZDlPNecfyBpZU9PtwfEWpr3jcT7+vo8pOneRUCs97LgVxFKSkr4n90Sdq99twTE+ghDQ0MnT57Er/XJZDK5XH7ixInBwUHWeYkdGcdxCPgYLS0ttbW1MpksPz8/MzOTdToSAMQCiAA/3QsQAcQCiABiAUQAsQAigFgAEUAsgAggFkCE/wERW50GTn39HAAAAABJRU5ErkJggg==\" alt=\"Mol\"/>  ms"
      ]
     },
     "execution_count": 3,
     "metadata": {},
     "output_type": "execute_result"
    }
   ],
   "source": [
    "train = PandasTools.LoadSDF('training_set.sdf')\n",
    "train.head(1)"
   ]
  },
  {
   "cell_type": "code",
   "execution_count": 4,
   "metadata": {},
   "outputs": [
    {
     "data": {
      "text/html": [
       "<table border=\"1\" class=\"dataframe\">\n",
       "  <thead>\n",
       "    <tr style=\"text-align: right;\">\n",
       "      <th></th>\n",
       "      <th>Activity</th>\n",
       "      <th>ID</th>\n",
       "      <th>MOL</th>\n",
       "      <th>Outcome</th>\n",
       "      <th>ROMol</th>\n",
       "      <th>Set</th>\n",
       "    </tr>\n",
       "  </thead>\n",
       "  <tbody>\n",
       "    <tr>\n",
       "      <th>0</th>\n",
       "      <td>-0.16</td>\n",
       "      <td></td>\n",
       "      <td>es1_1</td>\n",
       "      <td>Inactive</td>\n",
       "      <td><img src=\"data:image/png;base64,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\" alt=\"Mol\"/></td>\n",
       "      <td>es1</td>\n",
       "    </tr>\n",
       "  </tbody>\n",
       "</table>"
      ],
      "text/plain": [
       "  Activity ID    MOL   Outcome                                                                                                                                                                                                                                                                                                                                                                                                                                                                                                                                                                                                                                                                                                                                                                                                                                                                                                                                                                                                                                                                                                                                                                                                                                                                                                                                                                                                                                                                                                                                                                                                                                                                                                                                                                                                                                                                                                                                                                                                                                                                                                                                                                                                                                                                                                                                                                                                                                                                                                                                                                                                                                                                                                                                                                                                                                                                                                                                                                                                                                                                                                                                                                                                                                                                                                                                                                                                                                                                                                                                                                                                                                                                                                                                                                                                                                                                                                                                                                                                                                                                                                                                                                                                                                                                                                                                                                                                                                                                                                                                                                                                                                                                                                                                                                                                                                                                                                                                                                                                                                                                                                                                                                                                                                                                                                              ROMol  Set\n",
       "0    -0.16     es1_1  Inactive  <img src=\"data:image/png;base64,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\" alt=\"Mol\"/>  es1"
      ]
     },
     "execution_count": 4,
     "metadata": {},
     "output_type": "execute_result"
    }
   ],
   "source": [
    "test = PandasTools.LoadSDF('test_set.sdf')\n",
    "test.head(1)"
   ]
  },
  {
   "cell_type": "markdown",
   "metadata": {},
   "source": [
    "### Calculate descriptors"
   ]
  },
  {
   "cell_type": "code",
   "execution_count": 6,
   "metadata": {},
   "outputs": [
    {
     "data": {
      "text/plain": [
       "(644, 2048)"
      ]
     },
     "execution_count": 6,
     "metadata": {},
     "output_type": "execute_result"
    }
   ],
   "source": [
    "# Training set\n",
    "def calcfp(mol,funcFPInfo=dict(radius=3, nBits=2048, useFeatures=False, useChirality = False)):\n",
    "    fp = GetMorganFingerprintAsBitVect(mol, **funcFPInfo)\n",
    "    fp = pd.Series(np.asarray(fp))\n",
    "    fp = fp.add_prefix('bit_')\n",
    "    return fp\n",
    "\n",
    "morgan_train = train.ROMol.apply(calcfp)\n",
    "morgan_train.shape"
   ]
  },
  {
   "cell_type": "code",
   "execution_count": 7,
   "metadata": {},
   "outputs": [
    {
     "data": {
      "text/plain": [
       "(449, 2048)"
      ]
     },
     "execution_count": 7,
     "metadata": {},
     "output_type": "execute_result"
    }
   ],
   "source": [
    "# Test set\n",
    "def calcfp(mol,funcFPInfo=dict(radius=3, nBits=2048, useFeatures=False, useChirality = False)):\n",
    "    fp = GetMorganFingerprintAsBitVect(mol, **funcFPInfo)\n",
    "    fp = pd.Series(np.asarray(fp))\n",
    "    fp = fp.add_prefix('bit_')\n",
    "    return fp\n",
    "\n",
    "morgan_test = test.ROMol.apply(calcfp)\n",
    "morgan_test.shape"
   ]
  },
  {
   "cell_type": "markdown",
   "metadata": {},
   "source": [
    "### Prepare data for modeling\n"
   ]
  },
  {
   "cell_type": "code",
   "execution_count": 8,
   "metadata": {},
   "outputs": [],
   "source": [
    "y_train = train['Activity']\n",
    "X_train = morgan_train\n",
    "\n",
    "y_test = test['Activity']\n",
    "X_test = morgan_test"
   ]
  },
  {
   "cell_type": "markdown",
   "metadata": {},
   "source": [
    "### Estimate the ADT of the model"
   ]
  },
  {
   "cell_type": "code",
   "execution_count": 9,
   "metadata": {},
   "outputs": [],
   "source": [
    "distances = calc_training_dist_matrix(X_train)"
   ]
  },
  {
   "cell_type": "code",
   "execution_count": null,
   "metadata": {
    "scrolled": true
   },
   "outputs": [],
   "source": [
    "D_cutoff = calc_d_cutoff(distances, std_dev)\n",
    "print(D_cutoff)"
   ]
  },
  {
   "cell_type": "markdown",
   "metadata": {},
   "source": [
    "### Calculate if moleles in the test set are in the AD of the model"
   ]
  },
  {
   "cell_type": "code",
   "execution_count": null,
   "metadata": {},
   "outputs": [],
   "source": []
  }
 ],
 "metadata": {
  "kernelspec": {
   "display_name": "Python 3 (RDKit)",
   "language": "python",
   "name": "my-rdkit-env"
  },
  "language_info": {
   "codemirror_mode": {
    "name": "ipython",
    "version": 3
   },
   "file_extension": ".py",
   "mimetype": "text/x-python",
   "name": "python",
   "nbconvert_exporter": "python",
   "pygments_lexer": "ipython3",
   "version": "3.6.7"
  }
 },
 "nbformat": 4,
 "nbformat_minor": 2
}
