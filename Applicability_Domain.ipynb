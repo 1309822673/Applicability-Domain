{
 "cells": [
  {
   "cell_type": "markdown",
   "metadata": {},
   "source": [
    "# Applicability Domain Workflow"
   ]
  },
  {
   "cell_type": "markdown",
   "metadata": {},
   "source": [
    "### Introduction\n",
    "\n",
    "Workflow for estimation of Applicability Domain (AD) based on Euclidean distances. \n",
    "\n",
    "The AD of a QSAR model must be defined to flag compounds in the test set for which predictions may be unreliable. In this workflow, similarity measurements are used to define the AD of the model based on the Euclidean distances among all training compounds and the test or virtual screening compounds. The distance of a test compound to its nearest neighbor in the training set is compared to the predefined AD Threshold (ADT). If the similarity is beyond this threshold, the prediction is considered unreliable.\n",
    "\n",
    "ADT is calculated as follows: \n",
    "\n",
    "ADT = D + Zσ \n",
    "\n",
    "Calculation of D and σ is performed as follows: First, the average of Euclidean distances between all pairs of training compounds is calculated. Next, the set of distances that were lower than the average is formulated. D and σ are finally calculated as the average and standard deviation of all distances included in this set. Z is an empirical cutoff value and the default value is 0.5.\n",
    "\n",
    "This method has been defined by A. Golbraikh, M. Shen, Z. Xiao, Y.-D. Xiao, K.-H. Lee, A. Tropsha. J. Comput. Aided. Mol. Des. 2003, 17 (2–4), 241–253."
   ]
  },
  {
   "cell_type": "code",
   "execution_count": 33,
   "metadata": {},
   "outputs": [],
   "source": [
    "import pandas as pd\n",
    "import numpy as np\n",
    "from rdkit.Chem import PandasTools\n",
    "from rdkit.Chem.AllChem import GetMorganFingerprintAsBitVect\n",
    "from sklearn.model_selection import train_test_split\n",
    "from scipy.spatial import distance_matrix"
   ]
  },
  {
   "cell_type": "markdown",
   "metadata": {},
   "source": [
    "### ADT function"
   ]
  },
  {
   "cell_type": "code",
   "execution_count": 38,
   "metadata": {},
   "outputs": [],
   "source": [
    "def calc_training_dist_matrix(training_descriptors):\n",
    "    return np.sort(distance_matrix(training_descriptors,training_descriptors),axis=1)[:,1:]\n",
    "\n",
    "def calc_d_cutoff(distance_matrix, user_cutoff=0.5):\n",
    "    average_dist = np.mean(distance_matrix, axis=None)\n",
    "    std_dev = np.std(distance_matrix, axis=None)\n",
    "    return (average + user_cutoff * std_dev)\n",
    "\n",
    "def calc_test_distances(testing_descriptors,training_descriptors):\n",
    "    return distance_matrix(testing_descriptors,training_descriptors)\n",
    "\n",
    "def test_against_cutoff(distances_for_compound,threshold):\n",
    "    test_value = calc_d_cutoff(distances_for_compound)\n",
    "    if test_value > threshold:\n",
    "        return True\n",
    "    return False"
   ]
  },
  {
   "cell_type": "markdown",
   "metadata": {},
   "source": [
    "### Import curated dataset"
   ]
  },
  {
   "cell_type": "code",
   "execution_count": 29,
   "metadata": {},
   "outputs": [
    {
     "data": {
      "text/html": [
       "<table border=\"1\" class=\"dataframe\">\n",
       "  <thead>\n",
       "    <tr style=\"text-align: right;\">\n",
       "      <th></th>\n",
       "      <th>Activity</th>\n",
       "      <th>ID</th>\n",
       "      <th>MOL</th>\n",
       "      <th>Outcome</th>\n",
       "      <th>ROMol</th>\n",
       "    </tr>\n",
       "  </thead>\n",
       "  <tbody>\n",
       "    <tr>\n",
       "      <th>0</th>\n",
       "      <td>-0.12</td>\n",
       "      <td></td>\n",
       "      <td>ms_1</td>\n",
       "      <td>Inactive</td>\n",
       "      <td><img src=\"data:image/png;base64,iVBORw0KGgoAAAANSUhEUgAAAMgAAADICAIAAAAiOjnJAAAABmJLR0QA/wD/AP+gvaeTAAAQKklEQVR4nO2dWVBT1xvAT2JAWZTNBVGQRRAQWQXclQiVIq88hmo7kxn6ENqpTnjpxD50BqbtNJ3OdCYPfYjtgwM8RUGmieKCiiyCoGFxRWQRlIAIQpDc/8OZ3uYPqEjuOefe5Ps9Oni/L7m/e+/5zvnuiYzjOAQAQiNnnQDgnoBYABFALIAIIBZABBALIAKIBRABxAKIoGCdgDRoaWmpra2VyWT5+fmZmZms05ECHPBBhoaGTp48KZfLEUIymUwul584cWJwcJB1XmIHxHovdrtdr9evW7cOIeTl5VVSUlJWVrZmzRqEkJ+fn06ne/v2LescxQuItTQmkykmJgbf1HNzc61WK/73Z8+eqVQq/O/h4eFGo5FtnqIFxFpId3f3559/jtXZsWNHTU3N4r+5fPlycnIy/pucnJy7d+/Sz1PkgFj/MTY2ptFoFAoFQigoKKi8vHx2dvZ9fzw/P280Gjds2IAQksvlKpXqxYsXNLMVOSAWx3Hc3NycwWDAligUCrVaPTIyspz/ODY2ptVqvb29l+OiRwFicZcuXdq1axd+rimVyhU817q7uwsKCj789PQ0PFqsBw8eFBUVYSG2b99eWVnpytHMZnNiYiI/3r9//75QeUoRDxXrzZs3Op1O8LkDPEMREBCAZyg0Gs34+Ljrh5UiHieWw+EwGo2hoaF4wlOlUg0NDQkb4uXLlxqNZtWqVQihkJAQvV7/7t07YUOIH88Sq6mpae/evfhplZmZefPmTXKxWltbDx48iGOlp6dfu3aNXCwR4iliPX/+XKVSyWQyhNCWLVuMRqPD4aAQ12QyRUZGYr0KCwufPHlCIagYcH+xpqeny8vL165dixDy8fHRarWvX7+mn4C/vz+fwOTkJM0EmODmYi24YTx+/JhVJqxumaxwW7Hu3Llz6NAhrFRaWtrVq1dZZ8RxHHf79u09e/bgrLKysm7dusU6I1K4oVgiL8oolKViwK3EktA0Ep5IW716NT+RNjMzwzopIXEfsRZMfN+7d491Rh9H2Kl/UeEOYvX09Bw/fhyfnri4uAsXLrDO6NOwWCzOi5UdHR2sMxIAaYtls9n45oLAwEDpNhesuL1CtEhVLNwOtXHjRndqh3r16hXfEBYcHKzX6+fm5lgntUIkKZZzA+eRI0fa29tZZyQkXV1d+fn5+NPFx8fX1tayzmglSEwsz2k5d266LywsfPjwIeuMPg3JiOXc6OLr68vqJRmHw3H69Gn+3QqiLHhNSKPRTExMUIgrCBIQy+FwVFZWRkRE4BnFoqKivr4+VsmcO3cOn+bS0tKxsTEKEQcHB9VqNX6xcfPmzQaDYX5+nkJcFxG7WM3Nzfv27cNPhN27d9+4cYNtPqzG1y0tLfv378ffQ0ZGxvXr1ykEdQXxijUwMMBfqWFhYaK6UheMry9evEghKL5zb9u2jb9zP336lELclSFGsWZnZ/V6PW508fb21mg0lBtdlonJZIqOjubH148ePaIQdGpqSqfT+fj48GPN6elpCnE/FdGJxeRsrRh8DeDxNb4G6Iyv+/v7+SacrVu3irAJR0RiWa3WY8eOYaUSEhLq6upYZ7RcWI2vr1y5kpqair+xw4cPt7W1UQi6TEQhFh4R40YXPCIWVaPLMlkwvm5oaKAQFK9AbNq0iV+BGB4ephD3ozAWy263GwyG9evX4xperVaPjo6yTckVFs+M0Blf4zVT3ISD10yZN+GwFMtsNu/cuZNvdOns7GSYjIDg8bXzXC6d8XVvb29hYSH+PmNjY9k24bARq7e3l+9DYv4VEILV+HrB5cqqL422WM43bX9/f/frnFxAfX19SkoK5fE1XgsKDAxkOMCgJ5Zoh5mkWdzhQ+eDsy2JKInlXBhnZ2c3NjbSiSseWI2vWU3iEBdL/FN5NOnp6eHH13FxcefPn6cT12QyRUVF0Zx2JiiWVBYf6MNkfE15oYyIWNJaLmXCgvG1RqOx2WwU4lJb2hdeLMk1eDCE1fi6qamJdDOSkGItXjKT4soMfdra2vjdAKiNr0m3TwojlqSbaEXCgvE1nf1LCO1syAkiltTb/sWD845LNBvRSLyi4pJY4+PjSqUSJ5SUlGSxWFxPCGDVOmuxWJKSkvDZVCqVLm574ZJYVVVVMTExAQEBkn61UpxQGF8vBi8ShISEREVFubiA65JYeXl5CKHq6mpXDgK8Dzy+Dg8PJzS+fh/V1dUIoby8PFcOIsAPYeIxASA4WKauri684VFVVVViYuKZM2dmZmaIxhXkhMIvrIodPz+/M2fO9Pb2qlSqqampH374IS4u7uzZs6zz+gggljQIDw8/e/Ys3rSiv7//iy++wBsesc7rvYBYUiInJ6etrQ034dTX16elpRUXF4+MjLDOawlALIkhl8uLi4u7u7u1Wq1Cofjrr7/i4+MrKirsdjvr1P4PEEuS4J+w6+joKCgosNlsZWVlycnJNTU1rPP6DxBLwuCfsMObr+JOr7y8PKvVyjovhEAsNyA3N7e9vR1vF22xWFJTU0tLSycmJthmBWK5A3hbpe7u7i+//HJ+fv7333/v7Oxkm5KCbXhAQEJDQ//888+vv/66rq7uwIEDbJMBsdyNjIyMjIwM1lnAoxAgAzOxPvvss5SUFHFO7gGuw+xRaLVaBwYGxDatBwgFPAoBIoBYABFALIAIIBZABBALIAKIBRABxAKIAGIBRACxACKAWAARQCyACCAWQAQQCyACiAUQAcQCiABiAUQAsQAigFgAEUAsgAggFkAEEAsgAogFEAHEAogAYgFEALEAIoBYABFALIAIIBZABBALIAKIBRABxAKIAGIBRACxACKAWAARQCyACCAWQAQQCyACiAUQAcQCiABiAUQAsQAigFgAEUAsgAggFkAEEAsgAogFEAHEAogAYgFEALEAIoBYABFALIAIIBZABBALIAKIBRABxAKIAGIBRACxACKAWAARQCyACCAWQAQQCyCCglXgxMTEkJAQb29vVgkARGEm1j///MMqNEABeBQCRACx3I3W1tYff/yRdRYglhsxPDz81VdfZWVlff/99w0NDWyTYTbGAgRkbm7ujz/+0Ol0ExMTXl5eJSUlu3btYpsSiCV5LBZLaWmp1WpFCOXm5v7222+JiYmsk4JHoZTp6ek5fvx4Xl6e1WrdsWNHTU2N2WwWg1UI7lgSxWazVVRU/Prrr3a7PSgoSKvVfvvtt6KaFASxJIbD4fj7779PnTo1Ojoql8tVKtXPP/+8ceNG1nktBMSSEvX19d98801HRwdCKCcnR6/XJycns05qaWCMJQ36+/uLi4uVSmVHR0d4eLjRaLx8+bJorUJwxxI/U1NTP/30U0VFxczMjJ+f36lTp8rKytasWcM6r48ggFiTk5OuHwRYDMdx1dXV3333XX9/v0wmKyoq+uWXX8LDw0nHFeaEci5QVVUVHR0dEBCg1+vn5uZcORSwgKampr179+JzlJmZeePGDQpB5+fnjUZjcHBwZGRkZWWlK4dySazx8XGlUok/fFJSksViceVoAGZgYEClUslkMoRQWFiYwWCYn5+nENdisSQlJeGzqVQqx8fHXTmaS2JhTCZTTEwMTqiwsPDhw4euH9MzmZ6eLi8vX7t2LULIx8dHq9W+fv2aQtxnz56pVCp8BnFl4PoxBRCL4zi73a7X69etW4cQ8vLy0mg0ExMTghzZczCZTFFRUfz1+fjxYwpB37x5o9PpcCng5+en0+nevn0ryJGFEQszODioVqtXrVqFENq8ebPBYHj37p2Ax3dX7ty5c+jQIaxUamrq1atXKQR1OByVlZW4FMCVQV9fn4DHF1IsTEtLy4EDB/DXlJ6efv36dcFDuA0vX77UaDT4UgwODtbr9XQuxaampn379hGtDIQXi/v3ati2bRt/NTx9+pREIOmCBw8BAQH84MFms1GIOzAwoFar5XI56cqAiFiYqakpnU7n4+ODEPL19dVqtZOTk+TCSQiz2bxz5058w8jNzb137x6FoM6Vgbe3t0ajIVoZEBQL09/fzxfPW7duNRqNDoeDdFDR0tPTU1hYiJWKi4s7f/48nbj0KwPiYmEaGxuzs7PxB8vOzm5sbKQTVzzYbDatVos7WwIDA8vLy2dmZijEbWtr4yuDhISEuro6CkE5amJx/87qbtq0CSGE+z2Gh4epRWcI/uC4swV/8BcvXlCI++rVKyaVAYaeWJjJyUmdTrd69WqEkL+/v06no3PhsqK+vj4lJQXfMI4cOdLe3k4hKK4MAgMDKVcGztAWC9Pb21tUVIS/7tjYWBeXpcSJ83Q2zcElk8pgMWzEwpjNZn5x6ujRo52dnQyTERBcDuPpbF9fXwGnsz+Mc2UQGxtLrTJYEpZicRxnt9sNBsP69esRQgqFQq1Wj46Osk3JFfAEXkREBKHp7PeBKwM8wKBZGXwAxmJh2A4zhaK5uXn//v34hpGRkdHQ0EAh6OLKQCQlkSjEwlit1mPHjtEvjF3HeTobL5LSaXS5cuUKXxkcPny4ra2NQtBlIiKxMCaTKTo6mp/Ke/ToEeuMPsTs7Czf1oGns+m0dYh/2ll0YnH/ni3nxQdxNuEwuQYWVwbT09MU4n4qYhQLQ225dAVYrdb8/HysVHx8/MWLFykEldbSvnjFwjQ3N/MNHrt376YzIv4Ai+sMOs3+LS0tzpWB+JuRxC4Wx66GX5Jz587h6ezS0tKxsTEKEXH7JP3KwEUkIBaG1azjAhwOx+nTp61WK4VYrCoDQZCMWBgSbf/iRFrV8WIkJhaGycouNbq6uuhXBoIjSbE4dr0oRMGVgUKhoFwZkECqYmEWd8/Nzs6yTmolzM3NudOaKSd1sTB4Yzu+3/fChQusM/o0nF9BPnr0aEdHB+uMBMAdxMKIpA/pk3jw4AHfl7Z9+3Z36ktzH7G4pd6pcnEDAnLgV5Bxowt+BZl5o4uwuJVYGOe3QENCQsTWhOPc+y+TyVQq1dDQEOukhMcNxcI4v7eelpZG5731j3L79u09e/bgrLKysm7dusU6I1K4rVgYJjttLMnz58/5RpctW7aIsNFFWNxcLI7d3kA8U1NT5eXl/v7+fAKe8Ea4+4uFcb5hhIWFUbthmEymyMhI/pb55MkTCkHFgKeIhVmw/+LNmzfJxWptbT148CCOlZ6efu3aNXKxRIhnicVxnMPhMBqNoaGh5IoykZeldPA4sTCEdrKT0EQaaTxULIzzxHdERISLTThmszkhIYGf+r9//75QeUoRjxYLc+nSJf4nHnJycu7evfupR+ju7i4oKMBHwL/CRSJPaQFicdy/zQUbNmzgm3BGRkaW8x/Hxsb49oqgoCDptlcIDoj1H59kCV6ZWYGLHgKItZDlPNecfyBpZU9PtwfEWpr3jcT7+vo8pOneRUCs97LgVxFKSkr4n90Sdq99twTE+ghDQ0MnT57Er/XJZDK5XH7ixInBwUHWeYkdGcdxCPgYLS0ttbW1MpksPz8/MzOTdToSAMQCiAA/3QsQAcQCiABiAUQAsQAigFgAEUAsgAggFkCE/wERW50GTn39HAAAAABJRU5ErkJggg==\" alt=\"Mol\"/></td>\n",
       "    </tr>\n",
       "  </tbody>\n",
       "</table>"
      ],
      "text/plain": [
       "  Activity ID   MOL   Outcome                                                                                                                                                                                                                                                                                                                                                                                                                                                                                                                                                                                                                                                                                                                                                                                                                                                                                                                                                                                                                                                                                                                                                                                                                                                                                                                                                                                                                                                                                                                                                                                                                                                                                                                                                                                                                                                                                                                                                                                                                                                                                                                                                                                                                                                                                                                                                                                                                                                                                                                                                                                                                                                                                                                                                                                                                                                                                                                                                                                                                                                                                                                                                                                                                                                                                                                                                                                                                                                                                                                                                                                                                                                                                                                                                                                                                                                                                                                                                                                                                                                                                                                                                                                                                                                                                                                                                                                                                                                                                                                                                                                                                                                                                                                                                                                                                                                                                                                                                                                                                                                                                                                                                                                                                                                                                                                                                                                                                                                                                                                                                                                                                                                                                                                                                                                                                                                                                              ROMol\n",
       "0    -0.12     ms_1  Inactive  <img src=\"data:image/png;base64,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\" alt=\"Mol\"/>"
      ]
     },
     "execution_count": 29,
     "metadata": {},
     "output_type": "execute_result"
    }
   ],
   "source": [
    "moldf = PandasTools.LoadSDF('dataset.sdf')\n",
    "moldf.head(1)"
   ]
  },
  {
   "cell_type": "markdown",
   "metadata": {},
   "source": [
    "### Calculate descriptors"
   ]
  },
  {
   "cell_type": "code",
   "execution_count": 34,
   "metadata": {},
   "outputs": [
    {
     "data": {
      "text/plain": [
       "(1093, 2048)"
      ]
     },
     "execution_count": 34,
     "metadata": {},
     "output_type": "execute_result"
    }
   ],
   "source": [
    "def calcfp(mol,funcFPInfo=dict(radius=3, nBits=2048, useFeatures=False, useChirality = False)):\n",
    "    fp = GetMorganFingerprintAsBitVect(mol, **funcFPInfo)\n",
    "    fp = pd.Series(np.asarray(fp))\n",
    "    fp = fp.add_prefix('bit_')\n",
    "    return fp\n",
    "\n",
    "morgan = moldf.ROMol.apply(calcfp)\n",
    "morgan.shape"
   ]
  },
  {
   "cell_type": "markdown",
   "metadata": {},
   "source": [
    "### Prepare data for modeling\n"
   ]
  },
  {
   "cell_type": "code",
   "execution_count": 35,
   "metadata": {},
   "outputs": [
    {
     "data": {
      "text/plain": [
       "(1093, 2048)"
      ]
     },
     "execution_count": 35,
     "metadata": {},
     "output_type": "execute_result"
    }
   ],
   "source": [
    "y = moldf['Activity']\n",
    "X = morgan\n",
    "X.shape"
   ]
  },
  {
   "cell_type": "code",
   "execution_count": 36,
   "metadata": {},
   "outputs": [],
   "source": [
    "X_train, X_test, y_train, y_test = train_test_split(X, y, test_size=0.33, random_state=24)"
   ]
  },
  {
   "cell_type": "markdown",
   "metadata": {},
   "source": [
    "### Estimate the ADT of the model"
   ]
  },
  {
   "cell_type": "code",
   "execution_count": 39,
   "metadata": {},
   "outputs": [],
   "source": [
    "distances = calc_training_dist_matrix(X_train)"
   ]
  },
  {
   "cell_type": "code",
   "execution_count": 40,
   "metadata": {
    "scrolled": true
   },
   "outputs": [
    {
     "ename": "NameError",
     "evalue": "name 'std_dev' is not defined",
     "output_type": "error",
     "traceback": [
      "\u001b[0;31m---------------------------------------------------------------------------\u001b[0m",
      "\u001b[0;31mNameError\u001b[0m                                 Traceback (most recent call last)",
      "\u001b[0;32m<ipython-input-40-aaf16a31e603>\u001b[0m in \u001b[0;36m<module>\u001b[0;34m\u001b[0m\n\u001b[0;32m----> 1\u001b[0;31m \u001b[0mD_cutoff\u001b[0m \u001b[0;34m=\u001b[0m \u001b[0mcalc_d_cutoff\u001b[0m\u001b[0;34m(\u001b[0m\u001b[0mdistances\u001b[0m\u001b[0;34m,\u001b[0m \u001b[0mstd_dev\u001b[0m\u001b[0;34m)\u001b[0m\u001b[0;34m\u001b[0m\u001b[0;34m\u001b[0m\u001b[0m\n\u001b[0m\u001b[1;32m      2\u001b[0m \u001b[0mprint\u001b[0m\u001b[0;34m(\u001b[0m\u001b[0mD_cutoff\u001b[0m\u001b[0;34m)\u001b[0m\u001b[0;34m\u001b[0m\u001b[0;34m\u001b[0m\u001b[0m\n",
      "\u001b[0;31mNameError\u001b[0m: name 'std_dev' is not defined"
     ]
    }
   ],
   "source": [
    "D_cutoff = calc_d_cutoff(distances, std_dev)\n",
    "print(D_cutoff)"
   ]
  },
  {
   "cell_type": "markdown",
   "metadata": {},
   "source": [
    "### Calculate if moleles in the test set are in the AD of the model"
   ]
  },
  {
   "cell_type": "code",
   "execution_count": null,
   "metadata": {},
   "outputs": [],
   "source": []
  }
 ],
 "metadata": {
  "kernelspec": {
   "display_name": "Python 3 (RDKit)",
   "language": "python",
   "name": "my-rdkit-env"
  },
  "language_info": {
   "codemirror_mode": {
    "name": "ipython",
    "version": 3
   },
   "file_extension": ".py",
   "mimetype": "text/x-python",
   "name": "python",
   "nbconvert_exporter": "python",
   "pygments_lexer": "ipython3",
   "version": "3.6.7"
  }
 },
 "nbformat": 4,
 "nbformat_minor": 2
}
