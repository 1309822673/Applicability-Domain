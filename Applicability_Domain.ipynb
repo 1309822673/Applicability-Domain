{
 "cells": [
  {
   "cell_type": "code",
   "execution_count": 1,
   "metadata": {},
   "outputs": [],
   "source": [
    "from rdkit.Chem import PandasTools\n",
    "import numpy as np\n",
    "from rdkit.Chem.rdMolDescriptors import GetMACCSKeysFingerprint\n",
    "from scipy.spatial import distance_matrix"
   ]
  },
  {
   "cell_type": "code",
   "execution_count": 2,
   "metadata": {},
   "outputs": [],
   "source": [
    "def calc_training_dist_matrix(training_descriptors):\n",
    "    return np.sort(distance_matrix(training_descriptors,training_descriptors),axis=1)[:,1:]\n",
    "\n",
    "def calc_d_cutoff(distance_matrix, user_cutoff=0.5):\n",
    "    average_dist = np.mean(distance_matrix, axis=None)\n",
    "    std_dev = np.std(distance_matrix, axis=None)\n",
    "    return (average + user_cutoff * std_dev)\n",
    "\n",
    "def calc_test_distances(testing_descriptors,training_descriptors):\n",
    "    return distance_matrix(testing_descriptors,training_descriptors)\n",
    "\n",
    "def test_against_cutoff(distances_for_compound,threshold):\n",
    "    test_value = calc_d_cutoff(distances_for_compound)\n",
    "    if test_value > threshold:\n",
    "        return True\n",
    "    return False"
   ]
  },
  {
   "cell_type": "code",
   "execution_count": 3,
   "metadata": {},
   "outputs": [],
   "source": [
    "data = PandasTools.LoadSDF('/home/francis/Documents/MML/DataCurationWorkflow/ExampleData/1-Acute_dermal_2616_st.sdf')"
   ]
  },
  {
   "cell_type": "code",
   "execution_count": 12,
   "metadata": {},
   "outputs": [],
   "source": [
    "descriptors = data.ROMol.apply(GetMACCSKeysFingerprint).tolist()"
   ]
  },
  {
   "cell_type": "code",
   "execution_count": 13,
   "metadata": {},
   "outputs": [],
   "source": [
    "distances = calc_distance_matrix(descriptors)"
   ]
  },
  {
   "cell_type": "code",
   "execution_count": 14,
   "metadata": {},
   "outputs": [
    {
     "name": "stdout",
     "output_type": "stream",
     "text": [
      "6.784553051980665\n"
     ]
    }
   ],
   "source": [
    "D_cutoff = calc_d_cutoff(distances, std_dev)\n",
    "print(D_cutoff)"
   ]
  },
  {
   "cell_type": "code",
   "execution_count": null,
   "metadata": {},
   "outputs": [],
   "source": []
  }
 ],
 "metadata": {
  "kernelspec": {
   "display_name": "Python 3",
   "language": "python",
   "name": "python3"
  },
  "language_info": {
   "codemirror_mode": {
    "name": "ipython",
    "version": 3
   },
   "file_extension": ".py",
   "mimetype": "text/x-python",
   "name": "python",
   "nbconvert_exporter": "python",
   "pygments_lexer": "ipython3",
   "version": "3.7.1"
  }
 },
 "nbformat": 4,
 "nbformat_minor": 2
}
